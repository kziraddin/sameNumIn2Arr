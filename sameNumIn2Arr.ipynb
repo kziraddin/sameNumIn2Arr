{
 "cells": [
  {
   "cell_type": "code",
   "execution_count": 9,
   "id": "742234fa",
   "metadata": {},
   "outputs": [
    {
     "name": "stdout",
     "output_type": "stream",
     "text": [
      "[5]\n"
     ]
    }
   ],
   "source": [
    "def common_number(a, b):\n",
    "    result = [i for i in a if i in b]\n",
    "    return result\n",
    " \n",
    "a = [1, 2, 3, 4, 5]\n",
    "b = [5, 6, 7, 8, 9]\n",
    " \n",
    "print(common_number(a, b))\n",
    "\n",
    "\n",
    "\n",
    "        "
   ]
  },
  {
   "cell_type": "code",
   "execution_count": 14,
   "id": "d98ec6de",
   "metadata": {},
   "outputs": [
    {
     "name": "stdout",
     "output_type": "stream",
     "text": [
      "0\n"
     ]
    }
   ],
   "source": [
    "def occurInBoth(A, B):\n",
    "    k = 0\n",
    "    for j in range(0, len(A)):\n",
    "        for i in range(0, len(B)):\n",
    "            if A[j] == B[i]:\n",
    "                k = k+1\n",
    "    return k\n",
    "\n",
    "\n",
    "\n",
    "\n",
    "A1 = [5, 12, 31, 7, 25, 9]\n",
    "B1 = []\n",
    "\n",
    "x = occurInBoth(A1, B1)\n",
    "\n",
    "print(x)"
   ]
  },
  {
   "cell_type": "code",
   "execution_count": null,
   "id": "ce00d8a6",
   "metadata": {},
   "outputs": [],
   "source": []
  }
 ],
 "metadata": {
  "kernelspec": {
   "display_name": "Python 3 (ipykernel)",
   "language": "python",
   "name": "python3"
  },
  "language_info": {
   "codemirror_mode": {
    "name": "ipython",
    "version": 3
   },
   "file_extension": ".py",
   "mimetype": "text/x-python",
   "name": "python",
   "nbconvert_exporter": "python",
   "pygments_lexer": "ipython3",
   "version": "3.9.12"
  }
 },
 "nbformat": 4,
 "nbformat_minor": 5
}
